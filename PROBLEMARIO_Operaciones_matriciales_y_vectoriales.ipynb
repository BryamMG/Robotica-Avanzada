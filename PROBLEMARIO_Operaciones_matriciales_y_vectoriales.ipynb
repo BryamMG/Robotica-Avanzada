{
  "nbformat": 4,
  "nbformat_minor": 0,
  "metadata": {
    "colab": {
      "provenance": [],
      "toc_visible": true,
      "authorship_tag": "ABX9TyPxAYmDQ1ySnPQrzfm1LZnz"
    },
    "kernelspec": {
      "name": "python3",
      "display_name": "Python 3"
    },
    "language_info": {
      "name": "python"
    }
  },
  "cells": [
    {
      "cell_type": "markdown",
      "source": [
        "# 📘 PROBLEMARIO: Operaciones Matriciales y Vectoriales"
      ],
      "metadata": {
        "id": "ohATPplOW8lC"
      }
    },
    {
      "cell_type": "markdown",
      "source": [
        "## 📄 Descripción  \n",
        "Este notebook contiene la resolución de un conjunto de ejercicios enfocados en **operaciones matriciales y vectoriales** utilizando **Python** (librería NumPy).  \n",
        "El objetivo es aplicar técnicas computacionales para resolver problemas de álgebra lineal y fortalecer habilidades en programación científica.  "
      ],
      "metadata": {
        "id": "KLGOgLd-Xn8t"
      }
    },
    {
      "cell_type": "markdown",
      "source": [
        "## ✅ Ejercicios a resolver  \n",
        "1. **Suma de matrices** – Calcular \\(C = A + B\\) para dos matrices dadas.  \n",
        "2. **Multiplicación de matrices** – Calcular \\(C = A \\cdot B\\) para matrices compatibles.  \n",
        "3. **Inversión de una matriz** – Encontrar \\(A^{-1}\\) para una matriz cuadrada dada.  \n",
        "4. **Resolución de sistema de ecuaciones lineales** – Escribir el sistema en forma matricial \\(AX = B\\) y encontrar el vector de incógnitas \\(X\\).  \n",
        "5. **Cálculo de determinante** – Determinar el valor del determinante de una matriz.  \n",
        "6. **Producto cruz de vectores** – Calcular el producto cruz \\(A \\times B\\) entre dos vectores tridimensionales.  \n",
        "7. **Proyección ortogonal** – Encontrar la proyección de un vector \\(V\\) sobre un vector \\(U\\).  \n",
        "8. **Producto escalar de proyecciones** – Calcular el producto escalar entre dos proyecciones de un vector sobre otros vectores.  \n",
        "9. **Ortogonalización de Gram-Schmidt** – Aplicar el proceso para un conjunto de vectores linealmente independientes.  \n",
        "10. **Espacio nulo de una matriz** – Encontrar una base para el espacio nulo de una matriz en forma escalonada reducida.  "
      ],
      "metadata": {
        "id": "piWJ0bf1Xpih"
      }
    },
    {
      "cell_type": "markdown",
      "source": [
        "## 📌 Ejercicio 1: Suma de matrices  \n",
        "Suma elemento a elemento de dos matrices A y B para obtener C = A + B.  \n"
      ],
      "metadata": {
        "id": "nDGTYGULXuuU"
      }
    },
    {
      "cell_type": "code",
      "execution_count": 32,
      "metadata": {
        "colab": {
          "base_uri": "https://localhost:8080/"
        },
        "id": "y-Hdj5kUS3w1",
        "outputId": "d3795c61-35ae-4704-ddc6-63b2c0646616"
      },
      "outputs": [
        {
          "output_type": "stream",
          "name": "stdout",
          "text": [
            "\n",
            "==================================================\n",
            "               MATRIZ RESULTANTE C = A + B\n",
            "==================================================\n",
            " 14.00   14.00   14.00\n",
            "  7.00    7.00    7.00\n",
            "  7.00    7.00    7.00\n",
            "==================================================\n",
            "\n"
          ]
        }
      ],
      "source": [
        "# Descripción:\n",
        "# Dadas las matrices A y B:\n",
        "# A = [[2, 4, 6], [1, 3, 5], [7, 9, 11]]\n",
        "# B = [[12, 10, 8], [6, 4, 2], [0, -2, -4]]\n",
        "# calcular C = A + B\n",
        "\n",
        "import numpy as np\n",
        "\n",
        "A = np.array([[2, 4, 6],\n",
        "              [1, 3, 5],\n",
        "              [7, 9, 11]], dtype=float)\n",
        "B = np.array([[12, 10, 8],\n",
        "              [6, 4, 2],\n",
        "              [0, -2, -4]], dtype=float)\n",
        "\n",
        "C = A + B\n",
        "\n",
        "print(\"\\n\" + \"=\"*50)\n",
        "print(\" \" * 15 + \"MATRIZ RESULTANTE C = A + B\")\n",
        "print(\"=\"*50)\n",
        "for fila in C:\n",
        "    print(\"  \".join(f\"{num:>6.2f}\" for num in fila))\n",
        "print(\"=\"*50 + \"\\n\")"
      ]
    },
    {
      "cell_type": "markdown",
      "source": [
        "## 📌 Ejercicio 2: Multiplicación de matrices  \n",
        "Multiplicación de dos matrices compatibles A y B para obtener C = A · B.  "
      ],
      "metadata": {
        "id": "16lM2waEYcNP"
      }
    },
    {
      "cell_type": "code",
      "source": [
        "# Descripción:\n",
        "# Dadas las matrices:\n",
        "# A = [[2, 1], [3, 4], [5, 6]]\n",
        "# B = [[7, 8], [9, 10]]\n",
        "# calcular C = A * B\n",
        "\n",
        "A = np.array([[2, 1],\n",
        "              [3, 4],\n",
        "              [5, 6]], dtype=float)\n",
        "B = np.array([[7, 8],\n",
        "              [9, 10]], dtype=float)\n",
        "\n",
        "C = np.dot(A, B)\n",
        "\n",
        "print(\"\\n\" + \"=\"*50)\n",
        "print(\" \" * 15 + \"MATRIZ RESULTANTE C = A·B\")\n",
        "print(\"=\"*50)\n",
        "for fila in C:\n",
        "    print(\"  \".join(f\"{num:>6.2f}\" for num in fila))\n",
        "print(\"=\"*50 + \"\\n\")"
      ],
      "metadata": {
        "colab": {
          "base_uri": "https://localhost:8080/"
        },
        "id": "ssZxgEwtTJWy",
        "outputId": "b8bf6c70-ca5d-4a8c-8ead-c98638d788b9"
      },
      "execution_count": 33,
      "outputs": [
        {
          "output_type": "stream",
          "name": "stdout",
          "text": [
            "\n",
            "==================================================\n",
            "               MATRIZ RESULTANTE C = A·B\n",
            "==================================================\n",
            " 23.00   26.00\n",
            " 57.00   64.00\n",
            " 89.00  100.00\n",
            "==================================================\n",
            "\n"
          ]
        }
      ]
    },
    {
      "cell_type": "markdown",
      "source": [
        "## 📌 Ejercicio 3: Inversión de una matriz  \n",
        "Cálculo de la matriz inversa A⁻¹ de una matriz cuadrada A dada.  \n"
      ],
      "metadata": {
        "id": "lp72kWLaYf37"
      }
    },
    {
      "cell_type": "code",
      "source": [
        "# Descripción:\n",
        "# Dada la matriz cuadrada:\n",
        "# A = [[4, 7, 2], [2, 6, 8], [3, 1, 9]]\n",
        "# calcular su inversa A^(-1)\n",
        "\n",
        "A = np.array([[4, 7, 2],\n",
        "              [2, 6, 8],\n",
        "              [3, 1, 9]], dtype=float)\n",
        "\n",
        "det = np.linalg.det(A)\n",
        "A_inv = np.linalg.inv(A)\n",
        "\n",
        "print(\"\\n\" + \"=\"*50)\n",
        "print(\" \" * 15 + \"MATRIZ A\")\n",
        "print(\"=\"*50)\n",
        "for fila in A:\n",
        "    print(\"  \".join(f\"{num:>8.2f}\" for num in fila))\n",
        "print(\"=\"*50 + \"\\n\")\n",
        "\n",
        "print(\"=\"*50)\n",
        "print(\" \" * 15 + \"DETERMINANTE DE A\")\n",
        "print(\"=\"*50)\n",
        "print(f\"det(A) = {det:>10.6f}\")\n",
        "print(\"=\"*50 + \"\\n\")\n",
        "\n",
        "print(\"=\"*50)\n",
        "print(\" \" * 15 + \"INVERSA DE A\")\n",
        "print(\"=\"*50)\n",
        "for fila in np.round(A_inv,6):\n",
        "    print(\"  \".join(f\"{num:>10.6f}\" for num in fila))\n",
        "print(\"=\"*50 + \"\\n\")\n",
        "\n",
        "print(\"Verificación A·A^(-1) ≈ Identidad:\")\n",
        "identity_check = np.dot(A, A_inv)\n",
        "for fila in np.round(identity_check,6):\n",
        "    print(\"  \".join(f\"{num:>10.6f}\" for num in fila))\n",
        "print(\"=\"*50 + \"\\n\")"
      ],
      "metadata": {
        "colab": {
          "base_uri": "https://localhost:8080/"
        },
        "id": "qWvzIlyfTRNb",
        "outputId": "1e58c3f0-442d-4eab-ff4a-8c7aa363f69d"
      },
      "execution_count": 34,
      "outputs": [
        {
          "output_type": "stream",
          "name": "stdout",
          "text": [
            "\n",
            "==================================================\n",
            "               MATRIZ A\n",
            "==================================================\n",
            "    4.00      7.00      2.00\n",
            "    2.00      6.00      8.00\n",
            "    3.00      1.00      9.00\n",
            "==================================================\n",
            "\n",
            "==================================================\n",
            "               DETERMINANTE DE A\n",
            "==================================================\n",
            "det(A) = 194.000000\n",
            "==================================================\n",
            "\n",
            "==================================================\n",
            "               INVERSA DE A\n",
            "==================================================\n",
            "  0.237113   -0.314433    0.226804\n",
            "  0.030928    0.154639   -0.144330\n",
            " -0.082474    0.087629    0.051546\n",
            "==================================================\n",
            "\n",
            "Verificación A·A^(-1) ≈ Identidad:\n",
            "  1.000000   -0.000000    0.000000\n",
            "  0.000000    1.000000    0.000000\n",
            "  0.000000   -0.000000    1.000000\n",
            "==================================================\n",
            "\n"
          ]
        }
      ]
    },
    {
      "cell_type": "markdown",
      "source": [
        "## 📌 Ejercicio 4: Resolución de sistema de ecuaciones lineales  \n",
        "Representación del sistema en forma matricial AX = B y cálculo del vector solución X.  "
      ],
      "metadata": {
        "id": "J9bCWt-VYjud"
      }
    },
    {
      "cell_type": "code",
      "source": [
        "# Descripción:\n",
        "# Resolver el sistema:\n",
        "# 2x + y + z = 8\n",
        "# 3x + 5y + 2z = 21\n",
        "# x + 2y + 4z = 11\n",
        "# Mostrar la solución en decimal y fracción, y verificar A·X = B\n",
        "\n",
        "import numpy as np\n",
        "from fractions import Fraction\n",
        "\n",
        "# Matriz de coeficientes A y vector de términos B\n",
        "A = np.array([[2, 1, 1],\n",
        "              [3, 5, 2],\n",
        "              [1, 2, 4]], dtype=float)\n",
        "\n",
        "B = np.array([8, 21, 11], dtype=float)\n",
        "\n",
        "# Resolver el sistema AX = B\n",
        "X = np.linalg.solve(A, B)\n",
        "\n",
        "# Convertir a fracciones exactas\n",
        "X_frac = [Fraction(x).limit_denominator() for x in X]\n",
        "\n",
        "# Mostrar solución decimal\n",
        "print(\"\\n\" + \"=\"*50)\n",
        "print(\" \" * 12 + \"SOLUCIÓN DEL SISTEMA (Decimal)\")\n",
        "print(\"=\"*50)\n",
        "for var, val in zip(['x', 'y', 'z'], X):\n",
        "    print(f\"{var:^5} = {val:>10.6f}\")\n",
        "print(\"=\"*50 + \"\\n\")\n",
        "\n",
        "# Mostrar solución en fracciones\n",
        "print(\"=\"*50)\n",
        "print(\" \" * 12 + \"SOLUCIÓN DEL SISTEMA (Fracciones)\")\n",
        "print(\"=\"*50)\n",
        "for var, val in zip(['x', 'y', 'z'], X_frac):\n",
        "    print(f\"{var:^5} = {str(val):>10}\")\n",
        "print(\"=\"*50 + \"\\n\")\n",
        "\n",
        "# Verificación: A·X ≈ B\n",
        "AX = np.dot(A, X)\n",
        "print(\"=\"*50)\n",
        "print(\" \" * 10 + \"VERIFICACIÓN: A·X ≈ B\")\n",
        "print(\"=\"*50)\n",
        "for i, (b_val, ax_val) in enumerate(zip(B, AX), start=1):\n",
        "    print(f\"Fila {i}: {ax_val:>10.6f} ≈ {b_val:>10.6f}\")\n",
        "print(\"=\"*50 + \"\\n\")"
      ],
      "metadata": {
        "colab": {
          "base_uri": "https://localhost:8080/"
        },
        "id": "AJAvjORaTUXD",
        "outputId": "9770626f-0138-459f-d303-4ef2d3228ecc"
      },
      "execution_count": 27,
      "outputs": [
        {
          "output_type": "stream",
          "name": "stdout",
          "text": [
            "\n",
            "==================================================\n",
            "            SOLUCIÓN DEL SISTEMA (Decimal)\n",
            "==================================================\n",
            "  x   =   2.304348\n",
            "  y   =   2.434783\n",
            "  z   =   0.956522\n",
            "==================================================\n",
            "\n",
            "==================================================\n",
            "            SOLUCIÓN DEL SISTEMA (Fracciones)\n",
            "==================================================\n",
            "  x   =      53/23\n",
            "  y   =      56/23\n",
            "  z   =      22/23\n",
            "==================================================\n",
            "\n",
            "==================================================\n",
            "          VERIFICACIÓN: A·X ≈ B\n",
            "==================================================\n",
            "Fila 1:   8.000000 ≈   8.000000\n",
            "Fila 2:  21.000000 ≈  21.000000\n",
            "Fila 3:  11.000000 ≈  11.000000\n",
            "==================================================\n",
            "\n"
          ]
        }
      ]
    },
    {
      "cell_type": "markdown",
      "source": [
        "## 📌 Ejercicio 5: Cálculo de determinante  \n",
        "Determinación del valor del determinante de una matriz cuadrada A."
      ],
      "metadata": {
        "id": "3L3AP56iYmQl"
      }
    },
    {
      "cell_type": "code",
      "source": [
        "# Descripción:\n",
        "# Dada la matriz cuadrada A = [[3, -2, 1], [0, 5, 4], [2, 1, 7]],\n",
        "# calcular su determinante.\n",
        "\n",
        "# Definir la matriz A\n",
        "A = np.array([[3, -2, 1],\n",
        "              [0, 5, 4],\n",
        "              [2, 1, 7]], dtype=float)\n",
        "\n",
        "# Calcular el determinante\n",
        "det = np.linalg.det(A)\n",
        "\n",
        "# Mostrar la matriz de forma alineada\n",
        "print(\"\\n\" + \"=\"*50)\n",
        "print(\" \" * 15 + \"MATRIZ A\")\n",
        "print(\"=\"*50)\n",
        "for fila in A:\n",
        "    print(\"  \".join(f\"{num:>8.2f}\" for num in fila))\n",
        "print(\"=\"*50 + \"\\n\")\n",
        "\n",
        "# Mostrar el determinante de forma centrada y estética\n",
        "print(\"=\"*50)\n",
        "print(\" \" * 15 + \"DETERMINANTE\")\n",
        "print(\"=\"*50)\n",
        "print(f\"det(A) = {det:>10.6f}\")\n",
        "print(\"=\"*50 + \"\\n\")"
      ],
      "metadata": {
        "colab": {
          "base_uri": "https://localhost:8080/"
        },
        "id": "tX1oPEIeTWJV",
        "outputId": "c654271a-ebc4-4245-ffa4-db8555e1b6b9"
      },
      "execution_count": 31,
      "outputs": [
        {
          "output_type": "stream",
          "name": "stdout",
          "text": [
            "\n",
            "==================================================\n",
            "               MATRIZ A\n",
            "==================================================\n",
            "    3.00     -2.00      1.00\n",
            "    0.00      5.00      4.00\n",
            "    2.00      1.00      7.00\n",
            "==================================================\n",
            "\n",
            "==================================================\n",
            "               DETERMINANTE\n",
            "==================================================\n",
            "det(A) =  67.000000\n",
            "==================================================\n",
            "\n"
          ]
        }
      ]
    },
    {
      "cell_type": "markdown",
      "source": [
        "## 📌 Ejercicio 6: Producto cruz de vectores  \n",
        "Cálculo del producto cruz A × B de dos vectores tridimensionales.  "
      ],
      "metadata": {
        "id": "nD8eMxWuYoz3"
      }
    },
    {
      "cell_type": "code",
      "source": [
        "# Descripción:\n",
        "# A = [2,3,-1], B = [1,-2,4], calcular A x B\n",
        "\n",
        "A = np.array([2,3,-1],dtype=float)\n",
        "B = np.array([1,-2,4],dtype=float)\n",
        "C = np.cross(A,B)\n",
        "\n",
        "print(\"\\n\" + \"=\"*50)\n",
        "print(\" \" * 15 + \"PRODUCTO CRUZ\")\n",
        "print(\"=\"*50)\n",
        "print(\"Vector A:\", A)\n",
        "print(\"Vector B:\", B)\n",
        "print(\"A x B =\", C)\n",
        "print(\"=\"*50 + \"\\n\")"
      ],
      "metadata": {
        "id": "-0WhOKlgTaZL",
        "outputId": "f37f7b1a-162c-46b1-a36e-0adb12d71098",
        "colab": {
          "base_uri": "https://localhost:8080/"
        }
      },
      "execution_count": 40,
      "outputs": [
        {
          "output_type": "stream",
          "name": "stdout",
          "text": [
            "\n",
            "==================================================\n",
            "               PRODUCTO CRUZ\n",
            "==================================================\n",
            "Vector A: [ 2.  3. -1.]\n",
            "Vector B: [ 1. -2.  4.]\n",
            "A x B = [10. -9. -7.]\n",
            "==================================================\n",
            "\n"
          ]
        }
      ]
    },
    {
      "cell_type": "markdown",
      "source": [
        "## 📌 Ejercicio 7: Proyección ortogonal  \n",
        "Cálculo de la proyección ortogonal de un vector V sobre otro vector U."
      ],
      "metadata": {
        "id": "4kmv-YCqY5FW"
      }
    },
    {
      "cell_type": "code",
      "source": [
        "\n",
        "# Descripción:\n",
        "# Dado V = [5,-3,2] y U = [2,1,2], calcular la proyección de V sobre U\n",
        "\n",
        "import numpy as np\n",
        "\n",
        "# Definir vectores\n",
        "V = np.array([5, -3, 2], dtype=float)\n",
        "U = np.array([2, 1, 2], dtype=float)\n",
        "\n",
        "# Calcular proyección\n",
        "proj_V_on_U = (np.dot(V, U) / np.dot(U, U)) * U\n",
        "\n",
        "# Mostrar resultados de forma organizada\n",
        "print(\"\\n\" + \"=\"*50)\n",
        "print(\" \" * 15 + \"VECTORES ORIGINALES\")\n",
        "print(\"=\"*50)\n",
        "print(\"Vector V:\", V)\n",
        "print(\"Vector U:\", U)\n",
        "print(\"=\"*50)\n",
        "\n",
        "print(\"\\n\" + \"=\"*50)\n",
        "print(\" \" * 15 + \"PROYECCIÓN ORTOGONAL\")\n",
        "print(\"=\"*50)\n",
        "print(\"Proyección de V sobre U:\", proj_V_on_U)\n",
        "print(\"=\"*50 + \"\\n\")"
      ],
      "metadata": {
        "colab": {
          "base_uri": "https://localhost:8080/"
        },
        "id": "RE6FrEKpcF59",
        "outputId": "50cc6645-e481-4afe-a22c-07bcdeaa91d0"
      },
      "execution_count": 44,
      "outputs": [
        {
          "output_type": "stream",
          "name": "stdout",
          "text": [
            "\n",
            "==================================================\n",
            "               VECTORES ORIGINALES\n",
            "==================================================\n",
            "Vector V: [ 5. -3.  2.]\n",
            "Vector U: [2. 1. 2.]\n",
            "==================================================\n",
            "\n",
            "==================================================\n",
            "               PROYECCIÓN ORTOGONAL\n",
            "==================================================\n",
            "Proyección de V sobre U: [2.44444444 1.22222222 2.44444444]\n",
            "==================================================\n",
            "\n"
          ]
        }
      ]
    },
    {
      "cell_type": "markdown",
      "source": [
        "## 📌 Ejercicio 8: Producto escalar de proyecciones  \n",
        "Cálculo del producto escalar entre las proyecciones de V sobre U y de V sobre W."
      ],
      "metadata": {
        "id": "cm20Tg4dY56o"
      }
    },
    {
      "cell_type": "code",
      "source": [
        "# Descripción:\n",
        "# Dados tres vectores V = [3, -1, 2], U = [2, 2, -1], y W = [1, 4, -2],\n",
        "# calcular el producto escalar entre la proyección de V sobre U y la proyección de V sobre W.\n",
        "\n",
        "import numpy as np\n",
        "\n",
        "# Definir los vectores\n",
        "V = np.array([3, -1, 2], dtype=float)\n",
        "U = np.array([2, 2, -1], dtype=float)\n",
        "W = np.array([1, 4, -2], dtype=float)\n",
        "\n",
        "# Calcular las proyecciones\n",
        "proj_V_on_U = (np.dot(V, U) / np.dot(U, U)) * U\n",
        "proj_V_on_W = (np.dot(V, W) / np.dot(W, W)) * W\n",
        "\n",
        "# Calcular el producto escalar\n",
        "dot_product = np.dot(proj_V_on_U, proj_V_on_W)\n",
        "\n",
        "# Mostrar resultados de forma organizada\n",
        "print(\"\\n\" + \"=\"*50)\n",
        "print(\" \" * 15 + \"VECTORES ORIGINALES\")\n",
        "print(\"=\"*50)\n",
        "print(\"Vector V:\", V)\n",
        "print(\"Vector U:\", U)\n",
        "print(\"Vector W:\", W)\n",
        "print(\"=\"*50)\n",
        "\n",
        "print(\"\\n\" + \"=\"*50)\n",
        "print(\" \" * 15 + \"PROYECCIONES\")\n",
        "print(\"=\"*50)\n",
        "print(\"Proyección de V sobre U:\", proj_V_on_U)\n",
        "print(\"Proyección de V sobre W:\", proj_V_on_W)\n",
        "print(\"=\"*50)\n",
        "\n",
        "print(\"\\n\" + \"=\"*50)\n",
        "print(\" \" * 15 + \"PRODUCTO ESCALAR\")\n",
        "print(\"=\"*50)\n",
        "print(f\"Producto escalar entre las proyecciones = {dot_product:.6f}\")\n",
        "print(\"=\"*50 + \"\\n\")"
      ],
      "metadata": {
        "colab": {
          "base_uri": "https://localhost:8080/"
        },
        "id": "oRnwJBq2cGTP",
        "outputId": "ce45c225-3ebb-4352-ed92-d6e03d132e3e"
      },
      "execution_count": 43,
      "outputs": [
        {
          "output_type": "stream",
          "name": "stdout",
          "text": [
            "\n",
            "==================================================\n",
            "               VECTORES ORIGINALES\n",
            "==================================================\n",
            "Vector V: [ 3. -1.  2.]\n",
            "Vector U: [ 2.  2. -1.]\n",
            "Vector W: [ 1.  4. -2.]\n",
            "==================================================\n",
            "\n",
            "==================================================\n",
            "               PROYECCIONES\n",
            "==================================================\n",
            "Proyección de V sobre U: [ 0.44444444  0.44444444 -0.22222222]\n",
            "Proyección de V sobre W: [-0.23809524 -0.95238095  0.47619048]\n",
            "==================================================\n",
            "\n",
            "==================================================\n",
            "               PRODUCTO ESCALAR\n",
            "==================================================\n",
            "Producto escalar entre las proyecciones = -0.634921\n",
            "==================================================\n",
            "\n"
          ]
        }
      ]
    },
    {
      "cell_type": "markdown",
      "source": [
        "\n",
        "## 📌 Ejercicio 9: Ortogonalización de Gram-Schmidt  \n",
        "Aplicación del proceso de Gram-Schmidt para obtener un conjunto ortogonal de vectores a partir de vectores dados.  "
      ],
      "metadata": {
        "id": "xOSQzm9QY88Y"
      }
    },
    {
      "cell_type": "code",
      "source": [
        "\n",
        "# Descripción:\n",
        "# Dado un conjunto de vectores linealmente independientes\n",
        "# v1 = [1,1,0], v2 = [1,2,1], v3 = [2,1,3],\n",
        "# aplicar el proceso de Gram-Schmidt para obtener un conjunto ortogonal.\n",
        "\n",
        "import numpy as np\n",
        "\n",
        "# Definir los vectores\n",
        "v1 = np.array([1, 1, 0], dtype=float)\n",
        "v2 = np.array([1, 2, 1], dtype=float)\n",
        "v3 = np.array([2, 1, 3], dtype=float)\n",
        "\n",
        "# Proceso de Gram-Schmidt\n",
        "u1 = v1\n",
        "u2 = v2 - (np.dot(v2, u1)/np.dot(u1,u1))*u1\n",
        "u3 = v3 - (np.dot(v3,u1)/np.dot(u1,u1))*u1 - (np.dot(v3,u2)/np.dot(u2,u2))*u2\n",
        "\n",
        "# Mostrar resultados de forma organizada\n",
        "print(\"\\n\" + \"=\"*50)\n",
        "print(\" \" * 15 + \"VECTORES ORIGINALES\")\n",
        "print(\"=\"*50)\n",
        "print(\"v1 =\", v1)\n",
        "print(\"v2 =\", v2)\n",
        "print(\"v3 =\", v3)\n",
        "print(\"=\"*50)\n",
        "\n",
        "print(\"\\n\" + \"=\"*50)\n",
        "print(\" \" * 12 + \"CONJUNTO ORTOGONAL RESULTANTE\")\n",
        "print(\"=\"*50)\n",
        "print(\"u1 =\", u1)\n",
        "print(\"u2 =\", u2)\n",
        "print(\"u3 =\", u3)\n",
        "print(\"=\"*50 + \"\\n\")"
      ],
      "metadata": {
        "colab": {
          "base_uri": "https://localhost:8080/"
        },
        "id": "Yjn_j1U7cGo-",
        "outputId": "0467f836-eb56-4786-fea2-8fbd5d9ddbce"
      },
      "execution_count": 45,
      "outputs": [
        {
          "output_type": "stream",
          "name": "stdout",
          "text": [
            "\n",
            "==================================================\n",
            "               VECTORES ORIGINALES\n",
            "==================================================\n",
            "v1 = [1. 1. 0.]\n",
            "v2 = [1. 2. 1.]\n",
            "v3 = [2. 1. 3.]\n",
            "==================================================\n",
            "\n",
            "==================================================\n",
            "            CONJUNTO ORTOGONAL RESULTANTE\n",
            "==================================================\n",
            "u1 = [1. 1. 0.]\n",
            "u2 = [-0.5  0.5  1. ]\n",
            "u3 = [ 1.33333333 -1.33333333  1.33333333]\n",
            "==================================================\n",
            "\n"
          ]
        }
      ]
    },
    {
      "cell_type": "markdown",
      "source": [
        "## 📌 Ejercicio 10: Espacio nulo de una matriz  \n",
        "Determinación de una base para el espacio nulo de una matriz A en forma escalonada reducida.  "
      ],
      "metadata": {
        "id": "YBJe9VcBY_my"
      }
    },
    {
      "cell_type": "code",
      "source": [
        "\n",
        "# Descripción:\n",
        "# Dada una matriz A en forma escalonada reducida por filas\n",
        "# A = [[1, 2, 0, 3], [0, 1, 0, 2], [0, 0, 1, 1]],\n",
        "# encontrar una base para el espacio nulo de A (vectores v que satisfacen Av = 0).\n",
        "\n",
        "import numpy as np\n",
        "\n",
        "# Definir la matriz A\n",
        "A = np.array([[1, 2, 0, 3],\n",
        "              [0, 1, 0, 2],\n",
        "              [0, 0, 1, 1]], dtype=float)\n",
        "\n",
        "# Calcular el espacio nulo manualmente\n",
        "# De la tercera fila: x3 + x4 = 0  -> x3 = -x4\n",
        "# De la segunda fila: x2 + 2x4 = 0 -> x2 = -2x4\n",
        "# De la primera fila: x1 + 2x2 + 3x4 = 0 -> x1 - x4 = 0 -> x1 = x4\n",
        "# Tomando x4 = t, vector del espacio nulo:\n",
        "v_null = np.array([1, -2, -1, 1])  # t*[1, -2, -1, 1]\n",
        "\n",
        "# Mostrar resultados de forma organizada\n",
        "print(\"\\n\" + \"=\"*50)\n",
        "print(\" \" * 15 + \"MATRIZ A\")\n",
        "print(\"=\"*50)\n",
        "for fila in A:\n",
        "    print(\"  \".join(f\"{num:>8.2f}\" for num in fila))\n",
        "print(\"=\"*50)\n",
        "\n",
        "print(\"\\n\" + \"=\"*50)\n",
        "print(\" \" * 15 + \"BASE DEL ESPACIO NULO\")\n",
        "print(\"=\"*50)\n",
        "print(\"v = t *\", v_null)\n",
        "print(\"=\"*50 + \"\\n\")"
      ],
      "metadata": {
        "colab": {
          "base_uri": "https://localhost:8080/"
        },
        "id": "88MsCZKJcHKO",
        "outputId": "0750b842-ad21-4252-f73f-dadf5a6fab7c"
      },
      "execution_count": 46,
      "outputs": [
        {
          "output_type": "stream",
          "name": "stdout",
          "text": [
            "\n",
            "==================================================\n",
            "               MATRIZ A\n",
            "==================================================\n",
            "    1.00      2.00      0.00      3.00\n",
            "    0.00      1.00      0.00      2.00\n",
            "    0.00      0.00      1.00      1.00\n",
            "==================================================\n",
            "\n",
            "==================================================\n",
            "               BASE DEL ESPACIO NULO\n",
            "==================================================\n",
            "v = t * [ 1 -2 -1  1]\n",
            "==================================================\n",
            "\n"
          ]
        }
      ]
    }
  ]
}